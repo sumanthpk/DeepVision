{
 "cells": [
  {
   "cell_type": "code",
   "execution_count": 29,
   "metadata": {},
   "outputs": [],
   "source": [
    "import torch\n",
    "from torch import nn\n",
    "import torchvision.models as models\n",
    "import torchvision\n",
    "from revuresnet18 import revuresnet18"
   ]
  },
  {
   "cell_type": "code",
   "execution_count": 32,
   "metadata": {},
   "outputs": [],
   "source": [
    "class Model2p5d():\n",
    "    def __init__(self):\n",
    "        self.model = models.resnet18(pretrained = True)\n",
    "         \n",
    "        module_list = list()\n",
    "        \n",
    "        in_conv = nn.Conv2d(3, 64, kernel_size=7, stride=2, padding=3,\n",
    "                            bias=False)\n",
    "        module_list.append(\n",
    "            nn.Sequential(\n",
    "                in_conv,\n",
    "                self.model.bn1,\n",
    "                self.model.relu,\n",
    "                self.model.maxpool\n",
    "            )\n",
    "        )\n",
    "        \n",
    "        module_list.append(self.model.layer1)\n",
    "        module_list.append(self.model.layer2)\n",
    "        module_list.append(self.model.layer3)\n",
    "        module_list.append(self.model.layer4)\n",
    "        self.encoder = nn.ModuleList(module_list)\n",
    "        \n",
    "        \n",
    "        out_planes = [3,1,1]\n",
    "        layer_names = ['normal','depth','sil']\n",
    "        \n",
    "        self.decoders = {}\n",
    "        for out_plane, layer_name in zip(out_planes, layer_names):\n",
    "            module_list2 = list()\n",
    "            revresnet = revuresnet18(out_planes=out_plane)\n",
    "            module_list2.append(revresnet.layer1)\n",
    "            module_list2.append(revresnet.layer2)\n",
    "            module_list2.append(revresnet.layer3)\n",
    "            module_list2.append(revresnet.layer4)\n",
    "            module_list2.append(\n",
    "                nn.Sequential(\n",
    "                    revresnet.deconv1,\n",
    "                    revresnet.bn1,\n",
    "                    revresnet.relu,\n",
    "                    revresnet.deconv2\n",
    "                )\n",
    "            )\n",
    "            module_list2 = nn.ModuleList(module_list2)\n",
    "            setattr(self, 'decoder_' + layer_name, module_list2)\n",
    "            self.decoders[layer_name] = module_list2\n",
    "        \n",
    "    def forward(self,im):\n",
    "        feat = im\n",
    "        feat_maps = list()\n",
    "        for f in self.encoder:\n",
    "            feat = f(feat)\n",
    "            feat_maps.append(feat)\n",
    "            \n",
    "        self.encoder_out = feat_maps[-1]\n",
    "        \n",
    "        outputs = {}\n",
    "        for layer_name, decoder in self.decoders.items():\n",
    "            x = feat_maps[-1]\n",
    "            for idx, f in enumerate(decoder):\n",
    "                x = f(x)\n",
    "                if idx < len(decoder) - 1:\n",
    "                    feat_map = feat_maps[-(idx + 2)]\n",
    "                    assert feat_map.shape[2:4] == x.shape[2:4]\n",
    "                    x = torch.cat((x, feat_map), dim=1)\n",
    "            outputs[layer_name] = x\n",
    "        \n",
    "        return outputs\n"
   ]
  },
  {
   "cell_type": "code",
   "execution_count": 41,
   "metadata": {},
   "outputs": [
    {
     "name": "stdout",
     "output_type": "stream",
     "text": [
      "Normal: torch.Size([1, 3, 256, 256])\n",
      "Depth: torch.Size([1, 1, 256, 256])\n",
      "Silhouette: torch.Size([1, 1, 256, 256])\n"
     ]
    }
   ],
   "source": [
    "from PIL import Image\n",
    "import cv2\n",
    "import numpy as np\n",
    "img = cv2.imread(\"chair.png\")\n",
    "img = cv2.resize(img, (256,256))\n",
    "transform = torchvision.transforms.ToTensor()\n",
    "img = transform(img).unsqueeze(0)\n",
    "train = Model2p5d()\n",
    "output = train.forward(img)\n",
    "print(\"Normal:\", output['normal'].shape)\n",
    "print(\"Depth:\", output['depth'].shape)\n",
    "print(\"Silhouette:\", output['sil'].shape)\n",
    "\n"
   ]
  },
  {
   "cell_type": "code",
   "execution_count": null,
   "metadata": {},
   "outputs": [],
   "source": []
  }
 ],
 "metadata": {
  "kernelspec": {
   "display_name": "Shapehd",
   "language": "python",
   "name": "shapehd"
  },
  "language_info": {
   "codemirror_mode": {
    "name": "ipython",
    "version": 3
   },
   "file_extension": ".py",
   "mimetype": "text/x-python",
   "name": "python",
   "nbconvert_exporter": "python",
   "pygments_lexer": "ipython3",
   "version": "3.7.2"
  }
 },
 "nbformat": 4,
 "nbformat_minor": 2
}
