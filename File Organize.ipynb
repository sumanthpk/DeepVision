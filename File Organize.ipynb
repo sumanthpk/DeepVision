{
 "cells": [
  {
   "cell_type": "code",
   "execution_count": 132,
   "metadata": {
    "ExecuteTime": {
     "end_time": "2019-11-19T15:35:44.230919Z",
     "start_time": "2019-11-19T15:35:44.216493Z"
    }
   },
   "outputs": [],
   "source": [
    "def copy(ind, pathtocopy):\n",
    "    source = os.popen(\"realpath \" + ind).read()\n",
    "    dest = os.popen(\"realpath \" + pathtocopy).read()\n",
    "    cmd = \"cp \" + source + \" \" + dest\n",
    "    cmd = cmd.replace('\\n', '')\n",
    "    os.system(cmd)"
   ]
  },
  {
   "cell_type": "code",
   "execution_count": 135,
   "metadata": {
    "ExecuteTime": {
     "end_time": "2019-11-19T15:36:07.894988Z",
     "start_time": "2019-11-19T15:36:05.430109Z"
    }
   },
   "outputs": [
    {
     "name": "stdout",
     "output_type": "stream",
     "text": [
      "obj1 done!\n",
      "obj2 done!\n"
     ]
    }
   ],
   "source": [
    "import os\n",
    "superdir = \"temp\"   # Change the name on this line to the name of the directory having all the folders of objects\n",
    "newdir = \"tempdir\" \n",
    "obj_count = 0\n",
    "folders = os.listdir(superdir)\n",
    "for folder in folders:\n",
    "    maindir = folder\n",
    "    obj_count += 1\n",
    "    os.system(\"mkdir obj\" + str(obj_count))\n",
    "    os.system(\"cd obj\" + str(obj_count))\n",
    "    \n",
    "    for root, dirs, files in os.walk(superdir + \"/\" + maindir):\n",
    "        dest_path = newdir\n",
    "        os.system(\"mkdir \" + dest_path)\n",
    "        for file in sorted(files):\n",
    "            if file.endswith(\".png\"):\n",
    "                fpath = os.path.join(root, file)\n",
    "                copy(fpath, dest_path)\n",
    "\n",
    "    currdir = dest_path\n",
    "    newpath = \"rgb_sil_depth_view\"\n",
    "    count = 0\n",
    "    view = 0\n",
    "    for root, dirs, files in os.walk(currdir):\n",
    "        for file in sorted(files):\n",
    "            if count % 4 == 0:\n",
    "                view += 1\n",
    "                pathtocopy = \"obj\" + str(obj_count) + \"/\" + newpath + str(view)\n",
    "                os.system(\"mkdir \" + pathtocopy)\n",
    "            fpath = os.path.join(root, file)\n",
    "            copy(fpath, pathtocopy)\n",
    "            count += 1\n",
    "    os.system(\"rm -rf \" + currdir)\n",
    "    print(\"obj\" + str(obj_count) + \" done!\")\n",
    "    os.system(\"cd ..\")"
   ]
  },
  {
   "cell_type": "code",
   "execution_count": 136,
   "metadata": {
    "ExecuteTime": {
     "end_time": "2019-11-19T15:36:09.807108Z",
     "start_time": "2019-11-19T15:36:07.897839Z"
    }
   },
   "outputs": [
    {
     "name": "stdout",
     "output_type": "stream",
     "text": [
      "obj1 done!\n",
      "obj2 done!\n"
     ]
    }
   ],
   "source": [
    "import os\n",
    "superdir = \"temp\"\n",
    "newdir = \"tempdir\"\n",
    "obj_count = 0\n",
    "folders = os.listdir(superdir)\n",
    "for folder in folders:\n",
    "    maindir = folder\n",
    "    obj_count += 1\n",
    "    os.system(\"mkdir obj\" + str(obj_count))\n",
    "    os.system(\"cd obj\" + str(obj_count))\n",
    "    \n",
    "    for root, dirs, files in os.walk(superdir + \"/\" + maindir):\n",
    "        dest_path = newdir\n",
    "        os.system(\"mkdir \" + dest_path)\n",
    "        for file in sorted(files):\n",
    "            if file.endswith(\".npz\") or file.endswith(\".npy\"):\n",
    "                fpath = os.path.join(root, file)\n",
    "                copy(fpath, dest_path)\n",
    "\n",
    "    currdir = dest_path\n",
    "    newpath = \"3d_view\"\n",
    "    count = 0\n",
    "    view = 0\n",
    "    for root, dirs, files in os.walk(currdir):\n",
    "        for file in sorted(files):\n",
    "            if count % 3 == 0:\n",
    "                view += 1\n",
    "                pathtocopy = \"obj\" + str(obj_count) + \"/\" + newpath + str(view)\n",
    "                os.system(\"mkdir \" + pathtocopy)\n",
    "            fpath = os.path.join(root, file)\n",
    "            copy(fpath, pathtocopy)\n",
    "            count += 1\n",
    "    os.system(\"rm -rf \" + currdir)\n",
    "    print(\"obj\" + str(obj_count) + \" done!\")\n",
    "    os.system(\"cd ..\")"
   ]
  },
  {
   "cell_type": "code",
   "execution_count": null,
   "metadata": {},
   "outputs": [],
   "source": []
  }
 ],
 "metadata": {
  "kernelspec": {
   "display_name": "Python 3",
   "language": "python",
   "name": "python3"
  },
  "language_info": {
   "codemirror_mode": {
    "name": "ipython",
    "version": 3
   },
   "file_extension": ".py",
   "mimetype": "text/x-python",
   "name": "python",
   "nbconvert_exporter": "python",
   "pygments_lexer": "ipython3",
   "version": "3.6.8"
  }
 },
 "nbformat": 4,
 "nbformat_minor": 2
}
